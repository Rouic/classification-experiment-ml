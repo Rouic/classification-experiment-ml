{
  "nbformat": 4,
  "nbformat_minor": 0,
  "metadata": {
    "colab": {
      "provenance": [],
      "gpuType": "T4",
      "include_colab_link": true
    },
    "kernelspec": {
      "name": "python3",
      "display_name": "Python 3"
    },
    "language_info": {
      "name": "python"
    },
    "accelerator": "GPU",
    "widgets": {
      "application/vnd.jupyter.widget-state+json": {
        "5955cd0a017f4c388b495547bbb1850a": {
          "model_module": "@jupyter-widgets/controls",
          "model_name": "HBoxModel",
          "model_module_version": "1.5.0",
          "state": {
            "_dom_classes": [],
            "_model_module": "@jupyter-widgets/controls",
            "_model_module_version": "1.5.0",
            "_model_name": "HBoxModel",
            "_view_count": null,
            "_view_module": "@jupyter-widgets/controls",
            "_view_module_version": "1.5.0",
            "_view_name": "HBoxView",
            "box_style": "",
            "children": [
              "IPY_MODEL_6f8c200163b14a7aa5363501bf135c1f",
              "IPY_MODEL_f70c48c484744b51941ebf68ba815736",
              "IPY_MODEL_8b6e1b80ccce46e78ba76beaaa37a2d6"
            ],
            "layout": "IPY_MODEL_88baf2ab257f442abf5729faf2a08c9f"
          }
        },
        "6f8c200163b14a7aa5363501bf135c1f": {
          "model_module": "@jupyter-widgets/controls",
          "model_name": "HTMLModel",
          "model_module_version": "1.5.0",
          "state": {
            "_dom_classes": [],
            "_model_module": "@jupyter-widgets/controls",
            "_model_module_version": "1.5.0",
            "_model_name": "HTMLModel",
            "_view_count": null,
            "_view_module": "@jupyter-widgets/controls",
            "_view_module_version": "1.5.0",
            "_view_name": "HTMLView",
            "description": "",
            "description_tooltip": null,
            "layout": "IPY_MODEL_9b665328bd5742ba899c3ea6629a53df",
            "placeholder": "​",
            "style": "IPY_MODEL_6a5ce19f706f4937bb17ad4945c59b7a",
            "value": "100%"
          }
        },
        "f70c48c484744b51941ebf68ba815736": {
          "model_module": "@jupyter-widgets/controls",
          "model_name": "FloatProgressModel",
          "model_module_version": "1.5.0",
          "state": {
            "_dom_classes": [],
            "_model_module": "@jupyter-widgets/controls",
            "_model_module_version": "1.5.0",
            "_model_name": "FloatProgressModel",
            "_view_count": null,
            "_view_module": "@jupyter-widgets/controls",
            "_view_module_version": "1.5.0",
            "_view_name": "ProgressView",
            "bar_style": "success",
            "description": "",
            "description_tooltip": null,
            "layout": "IPY_MODEL_4c282aab43cd4b97a055f4b4cf5d160f",
            "max": 10,
            "min": 0,
            "orientation": "horizontal",
            "style": "IPY_MODEL_2851af5f0d93484e89f3d1357ddce5fb",
            "value": 10
          }
        },
        "8b6e1b80ccce46e78ba76beaaa37a2d6": {
          "model_module": "@jupyter-widgets/controls",
          "model_name": "HTMLModel",
          "model_module_version": "1.5.0",
          "state": {
            "_dom_classes": [],
            "_model_module": "@jupyter-widgets/controls",
            "_model_module_version": "1.5.0",
            "_model_name": "HTMLModel",
            "_view_count": null,
            "_view_module": "@jupyter-widgets/controls",
            "_view_module_version": "1.5.0",
            "_view_name": "HTMLView",
            "description": "",
            "description_tooltip": null,
            "layout": "IPY_MODEL_e015db61d2f6418688342535aad9be2a",
            "placeholder": "​",
            "style": "IPY_MODEL_073310cb91aa47fa977e5bdcc8fcb125",
            "value": " 10/10 [00:43&lt;00:00,  4.09s/it]"
          }
        },
        "88baf2ab257f442abf5729faf2a08c9f": {
          "model_module": "@jupyter-widgets/base",
          "model_name": "LayoutModel",
          "model_module_version": "1.2.0",
          "state": {
            "_model_module": "@jupyter-widgets/base",
            "_model_module_version": "1.2.0",
            "_model_name": "LayoutModel",
            "_view_count": null,
            "_view_module": "@jupyter-widgets/base",
            "_view_module_version": "1.2.0",
            "_view_name": "LayoutView",
            "align_content": null,
            "align_items": null,
            "align_self": null,
            "border": null,
            "bottom": null,
            "display": null,
            "flex": null,
            "flex_flow": null,
            "grid_area": null,
            "grid_auto_columns": null,
            "grid_auto_flow": null,
            "grid_auto_rows": null,
            "grid_column": null,
            "grid_gap": null,
            "grid_row": null,
            "grid_template_areas": null,
            "grid_template_columns": null,
            "grid_template_rows": null,
            "height": null,
            "justify_content": null,
            "justify_items": null,
            "left": null,
            "margin": null,
            "max_height": null,
            "max_width": null,
            "min_height": null,
            "min_width": null,
            "object_fit": null,
            "object_position": null,
            "order": null,
            "overflow": null,
            "overflow_x": null,
            "overflow_y": null,
            "padding": null,
            "right": null,
            "top": null,
            "visibility": null,
            "width": null
          }
        },
        "9b665328bd5742ba899c3ea6629a53df": {
          "model_module": "@jupyter-widgets/base",
          "model_name": "LayoutModel",
          "model_module_version": "1.2.0",
          "state": {
            "_model_module": "@jupyter-widgets/base",
            "_model_module_version": "1.2.0",
            "_model_name": "LayoutModel",
            "_view_count": null,
            "_view_module": "@jupyter-widgets/base",
            "_view_module_version": "1.2.0",
            "_view_name": "LayoutView",
            "align_content": null,
            "align_items": null,
            "align_self": null,
            "border": null,
            "bottom": null,
            "display": null,
            "flex": null,
            "flex_flow": null,
            "grid_area": null,
            "grid_auto_columns": null,
            "grid_auto_flow": null,
            "grid_auto_rows": null,
            "grid_column": null,
            "grid_gap": null,
            "grid_row": null,
            "grid_template_areas": null,
            "grid_template_columns": null,
            "grid_template_rows": null,
            "height": null,
            "justify_content": null,
            "justify_items": null,
            "left": null,
            "margin": null,
            "max_height": null,
            "max_width": null,
            "min_height": null,
            "min_width": null,
            "object_fit": null,
            "object_position": null,
            "order": null,
            "overflow": null,
            "overflow_x": null,
            "overflow_y": null,
            "padding": null,
            "right": null,
            "top": null,
            "visibility": null,
            "width": null
          }
        },
        "6a5ce19f706f4937bb17ad4945c59b7a": {
          "model_module": "@jupyter-widgets/controls",
          "model_name": "DescriptionStyleModel",
          "model_module_version": "1.5.0",
          "state": {
            "_model_module": "@jupyter-widgets/controls",
            "_model_module_version": "1.5.0",
            "_model_name": "DescriptionStyleModel",
            "_view_count": null,
            "_view_module": "@jupyter-widgets/base",
            "_view_module_version": "1.2.0",
            "_view_name": "StyleView",
            "description_width": ""
          }
        },
        "4c282aab43cd4b97a055f4b4cf5d160f": {
          "model_module": "@jupyter-widgets/base",
          "model_name": "LayoutModel",
          "model_module_version": "1.2.0",
          "state": {
            "_model_module": "@jupyter-widgets/base",
            "_model_module_version": "1.2.0",
            "_model_name": "LayoutModel",
            "_view_count": null,
            "_view_module": "@jupyter-widgets/base",
            "_view_module_version": "1.2.0",
            "_view_name": "LayoutView",
            "align_content": null,
            "align_items": null,
            "align_self": null,
            "border": null,
            "bottom": null,
            "display": null,
            "flex": null,
            "flex_flow": null,
            "grid_area": null,
            "grid_auto_columns": null,
            "grid_auto_flow": null,
            "grid_auto_rows": null,
            "grid_column": null,
            "grid_gap": null,
            "grid_row": null,
            "grid_template_areas": null,
            "grid_template_columns": null,
            "grid_template_rows": null,
            "height": null,
            "justify_content": null,
            "justify_items": null,
            "left": null,
            "margin": null,
            "max_height": null,
            "max_width": null,
            "min_height": null,
            "min_width": null,
            "object_fit": null,
            "object_position": null,
            "order": null,
            "overflow": null,
            "overflow_x": null,
            "overflow_y": null,
            "padding": null,
            "right": null,
            "top": null,
            "visibility": null,
            "width": null
          }
        },
        "2851af5f0d93484e89f3d1357ddce5fb": {
          "model_module": "@jupyter-widgets/controls",
          "model_name": "ProgressStyleModel",
          "model_module_version": "1.5.0",
          "state": {
            "_model_module": "@jupyter-widgets/controls",
            "_model_module_version": "1.5.0",
            "_model_name": "ProgressStyleModel",
            "_view_count": null,
            "_view_module": "@jupyter-widgets/base",
            "_view_module_version": "1.2.0",
            "_view_name": "StyleView",
            "bar_color": null,
            "description_width": ""
          }
        },
        "e015db61d2f6418688342535aad9be2a": {
          "model_module": "@jupyter-widgets/base",
          "model_name": "LayoutModel",
          "model_module_version": "1.2.0",
          "state": {
            "_model_module": "@jupyter-widgets/base",
            "_model_module_version": "1.2.0",
            "_model_name": "LayoutModel",
            "_view_count": null,
            "_view_module": "@jupyter-widgets/base",
            "_view_module_version": "1.2.0",
            "_view_name": "LayoutView",
            "align_content": null,
            "align_items": null,
            "align_self": null,
            "border": null,
            "bottom": null,
            "display": null,
            "flex": null,
            "flex_flow": null,
            "grid_area": null,
            "grid_auto_columns": null,
            "grid_auto_flow": null,
            "grid_auto_rows": null,
            "grid_column": null,
            "grid_gap": null,
            "grid_row": null,
            "grid_template_areas": null,
            "grid_template_columns": null,
            "grid_template_rows": null,
            "height": null,
            "justify_content": null,
            "justify_items": null,
            "left": null,
            "margin": null,
            "max_height": null,
            "max_width": null,
            "min_height": null,
            "min_width": null,
            "object_fit": null,
            "object_position": null,
            "order": null,
            "overflow": null,
            "overflow_x": null,
            "overflow_y": null,
            "padding": null,
            "right": null,
            "top": null,
            "visibility": null,
            "width": null
          }
        },
        "073310cb91aa47fa977e5bdcc8fcb125": {
          "model_module": "@jupyter-widgets/controls",
          "model_name": "DescriptionStyleModel",
          "model_module_version": "1.5.0",
          "state": {
            "_model_module": "@jupyter-widgets/controls",
            "_model_module_version": "1.5.0",
            "_model_name": "DescriptionStyleModel",
            "_view_count": null,
            "_view_module": "@jupyter-widgets/base",
            "_view_module_version": "1.2.0",
            "_view_name": "StyleView",
            "description_width": ""
          }
        }
      }
    }
  },
  "cells": [
    {
      "cell_type": "markdown",
      "metadata": {
        "id": "view-in-github",
        "colab_type": "text"
      },
      "source": [
        "<a href=\"https://colab.research.google.com/github/Rouic/classification-experiment-ml/blob/main/Test2_multi_label_classification.ipynb\" target=\"_parent\"><img src=\"https://colab.research.google.com/assets/colab-badge.svg\" alt=\"Open In Colab\"/></a>"
      ]
    },
    {
      "cell_type": "code",
      "execution_count": 44,
      "metadata": {
        "colab": {
          "base_uri": "https://localhost:8080/"
        },
        "id": "060JksIGS-py",
        "outputId": "ad8cb9de-e633-423c-96c7-7473a2290368"
      },
      "outputs": [
        {
          "output_type": "stream",
          "name": "stdout",
          "text": [
            "Python 3.10.12\n"
          ]
        }
      ],
      "source": [
        "!python3 --version"
      ]
    },
    {
      "cell_type": "code",
      "source": [
        "import torch\n",
        "import torch.nn as nn\n",
        "import matplotlib.pyplot as plt\n",
        "from transformers import BertTokenizer, BertModel\n",
        "from torch.utils.data import DataLoader, Dataset\n",
        "from sklearn.metrics import accuracy_score, classification_report\n",
        "from sklearn.model_selection import train_test_split\n",
        "import numpy as np\n",
        "from sklearn.metrics import accuracy_score\n",
        "from sklearn.metrics import f1_score, hamming_loss, precision_score, recall_score\n",
        "# Use progress bar\n",
        "from tqdm.auto import tqdm\n",
        "\n",
        "# Hyperparameters\n",
        "learning_rate = 2e-5  # Adjust if needed\n",
        "batch_size = 16     # Adjust if needed\n",
        "dropout_rate = 0.2   # Adjust dropout rate (0.1 - 0.5 usually work well)\n",
        "random_seed = 42    # Adjust random seed for reproducibility\n",
        "epochs = 10\n",
        "threshold_list = [0.5, 0.7, 0.9]  # Adjust threshold values as needed\n",
        "patience_to_not_improve = 5\n",
        "\n",
        "class TreeClassifier(nn.Module):\n",
        "    def __init__(self, num_classes, dropout_rate):\n",
        "        super().__init__()\n",
        "        self.bert = BertModel.from_pretrained('bert-base-uncased')\n",
        "        # self.dropout = nn.Dropout(dropout_rate) # Dropout layer NOTE : not in use jet the data set is to small\n",
        "        self.fc = nn.Linear(768, num_classes)  # Adjust input size if using different embeddings\n",
        "\n",
        "    def forward(self, input_ids, attention_mask):\n",
        "        outputs = self.bert(input_ids=input_ids, attention_mask=attention_mask)\n",
        "        pooled_output = outputs.pooler_output  # [CLS] token representation\n",
        "        # pooled_output = self.dropout(pooled_output) # Apply dropout NOTE : not in use jet the data set is to small\n",
        "        logits = self.fc(pooled_output)\n",
        "        probabilities = torch.sigmoid(logits)  # Apply sigmoid for multi-label classification\n",
        "        return probabilities"
      ],
      "metadata": {
        "id": "naEd4iqDTnbL"
      },
      "execution_count": 45,
      "outputs": []
    },
    {
      "cell_type": "code",
      "source": [
        "# UTILS\n",
        "from timeit import default_timer as timer\n",
        "\n",
        "def print_train_time(start, end, device=None):\n",
        "    \"\"\" Print traing time \"\"\"\n",
        "    total_time = end - start\n",
        "    print(f\"Train time on {device}: {total_time:.3f} seconds\")\n",
        "    return total_time\n",
        "\n",
        "def getResponse(predicted_labels, threshold):\n",
        "    \"\"\" Print out message \"\"\"\n",
        "    if len(predicted_labels) == 0:\n",
        "      return f\"Im not able to confidently answer... sorry. Can you try to rephrase? (trashold: {threshold})\"\n",
        "    else:\n",
        "      return f\" \".join([label_names[i] for i in predicted_labels]) + f\" (trashold: {threshold})\""
      ],
      "metadata": {
        "id": "DeF04mQ2U2i_"
      },
      "execution_count": 46,
      "outputs": []
    },
    {
      "cell_type": "code",
      "source": [
        "# Make device agnostic code\n",
        "device = \"cuda\" if torch.cuda.is_available() else \"cpu\"\n",
        "device"
      ],
      "metadata": {
        "colab": {
          "base_uri": "https://localhost:8080/",
          "height": 35
        },
        "id": "H0153lSgU8Y9",
        "outputId": "f4357b10-73b6-4e96-aa6b-1711ed63e5e1"
      },
      "execution_count": 47,
      "outputs": [
        {
          "output_type": "execute_result",
          "data": {
            "text/plain": [
              "'cuda'"
            ],
            "application/vnd.google.colaboratory.intrinsic+json": {
              "type": "string"
            }
          },
          "metadata": {},
          "execution_count": 47
        }
      ]
    },
    {
      "cell_type": "code",
      "source": [
        "# Define Dataset class\n",
        "class TextDataset(Dataset):\n",
        "    def __init__(self, texts, labels, tokenizer, max_len):\n",
        "        self.texts = texts\n",
        "        self.labels = labels\n",
        "        self.tokenizer = tokenizer\n",
        "        self.max_len = max_len\n",
        "\n",
        "    def __len__(self):\n",
        "        return len(self.texts)\n",
        "\n",
        "    def __getitem__(self, idx):\n",
        "        text = self.texts[idx]\n",
        "        label = self.labels[idx]\n",
        "        encoding = self.tokenizer(\n",
        "            text,\n",
        "            max_length=self.max_len,\n",
        "            truncation=True,\n",
        "            padding='max_length',\n",
        "            return_tensors='pt'\n",
        "        )\n",
        "        return {\n",
        "            'input_ids': encoding['input_ids'].squeeze(0),\n",
        "            'attention_mask': encoding['attention_mask'].squeeze(0),\n",
        "            'label': torch.tensor(label, dtype=torch.long)\n",
        "        }"
      ],
      "metadata": {
        "id": "HCV-IaTqWvRV"
      },
      "execution_count": 48,
      "outputs": []
    },
    {
      "cell_type": "code",
      "source": [
        "label_names = [\n",
        "    \"R0\",\n",
        "    \"B1\",\"B2\",\"B3\",\"B4\",\"B5\",\"B7\",\"B8\",\"B9\",\n",
        "    \"P1\",\"P2\",\"P3\",\"P4\",\"P13\",\"P14\",\"P15\",\"P16\"\n",
        "    \"Y1\",\"Y2\",\"Y3\",\"Y4\",\"Y5\",\"Y6\",\"Y19\",\"Y20\",\"Y21\",\"Y22\",\"Y23\",\"Y24\",\"Y25\",\"Y26\",\"Y27\",\"Y28\",\"Y29\",\"Y30\",\n",
        "    \"G1\",\"G2\",\"G3\",\"G4\"\n",
        "]\n",
        "\n",
        "text_examples = [\n",
        "    {\"text\": \"I like to start a mixer.\", \"labels\": [\"R0\"]},\n",
        "    {\"text\": \"I like to change my chart to a mixer chart.\", \"labels\": [\"R0\"]},\n",
        "    {\"text\": \"Mixer\", \"labels\": [\"R0\"]},\n",
        "    {\"text\": \"I don't want a simple chart\", \"labels\": [\"R0\"]},\n",
        "    {\"text\": \"I like to have multiple chart together in one.\", \"labels\": [\"R0\"]},\n",
        "]\n",
        "\n",
        "texts = [example[\"text\"] for example in text_examples]\n",
        "\n",
        "labels = [[1 if label in example[\"labels\"] else 0 for label in label_names] for example in text_examples]\n",
        "\n",
        "labels = np.array(labels)\n",
        "\n",
        "X_train, X_test, y_train, y_test = train_test_split(texts, labels, test_size=0.2, random_state=random_seed)"
      ],
      "metadata": {
        "id": "4Uw2qGO9VKxR"
      },
      "execution_count": 49,
      "outputs": []
    },
    {
      "cell_type": "code",
      "source": [
        "tokenizer = BertTokenizer.from_pretrained('bert-base-uncased')\n",
        "dataset = TextDataset(X_train, y_train, tokenizer, max_len=128)\n",
        "data_loader = DataLoader(dataset, batch_size=batch_size, shuffle=True)"
      ],
      "metadata": {
        "id": "zoXrenWB5db4"
      },
      "execution_count": 50,
      "outputs": []
    },
    {
      "cell_type": "code",
      "source": [
        "test_dataset = TextDataset(X_test, y_test, tokenizer, max_len=128)\n",
        "test_loader = DataLoader(test_dataset, batch_size=batch_size, shuffle=False)"
      ],
      "metadata": {
        "id": "PUJFw2EeYQLs"
      },
      "execution_count": 51,
      "outputs": []
    },
    {
      "cell_type": "code",
      "source": [
        "# Plot the data\n",
        "plt.figure(figsize=(10, 7))\n",
        "\n",
        "# Convert y_train to a list of tuples for hashability\n",
        "y_train_hashable = [tuple(row) for row in y_train]\n",
        "\n",
        "plt.hist(y_train_hashable, bins=len(set(y_train_hashable)))  # Plot histogram of labels\n",
        "plt.xlabel('Labels')\n",
        "plt.ylabel('Frequency')\n",
        "plt.title('Distribution of Labels in Training Set')\n",
        "plt.xticks(rotation=45, ha='right')  # Rotate x-axis labels for better readability\n",
        "\n",
        "plt.show()"
      ],
      "metadata": {
        "colab": {
          "base_uri": "https://localhost:8080/",
          "height": 653
        },
        "id": "nR5poTlUV9fi",
        "outputId": "82a0986d-e5eb-452b-f765-48952290adf2"
      },
      "execution_count": 52,
      "outputs": [
        {
          "output_type": "display_data",
          "data": {
            "text/plain": [
              "<Figure size 1000x700 with 1 Axes>"
            ],
            "image/png": "[encoded data removed]"
          },
          "metadata": {}
        }
      ]
    },
    {
      "cell_type": "code",
      "source": [
        "# Early Stopping Parameters\n",
        "best_val_loss = float('inf')  # Initialize with a very large value\n",
        "patience = patience_to_not_improve  # Number of epochs to wait for improvement\n",
        "epochs_without_improvement = 0"
      ],
      "metadata": {
        "id": "Uh0bDkYm4Fko"
      },
      "execution_count": 53,
      "outputs": []
    },
    {
      "cell_type": "code",
      "source": [
        "# Example Usage\n",
        "model = TreeClassifier(num_classes=len(label_names), dropout_rate=dropout_rate).to(device)\n",
        "criterion = nn.CrossEntropyLoss()\n",
        "optimizer = torch.optim.Adam(model.parameters(), lr=learning_rate)\n",
        "\n",
        "start = timer()\n",
        "\n",
        "for epoch in tqdm(range(epochs)):\n",
        "    model.train()  # Set the model to training mode\n",
        "    total_loss = 0\n",
        "    all_preds = []\n",
        "    all_labels = []\n",
        "\n",
        "    for batch in data_loader:\n",
        "        # Retrieve data from batch\n",
        "        input_ids = batch['input_ids'].to(device)\n",
        "        attention_mask = batch['attention_mask'].to(device)\n",
        "        labels = batch['label'].to(device)\n",
        "\n",
        "        # Forward pass: Get predictions from the model\n",
        "        outputs = model(input_ids=input_ids, attention_mask=attention_mask)  # Shape: [batch_size, num_classes]\n",
        "\n",
        "        # Collect predictions and true labels\n",
        "        # Convert model outputs to multi-label predictions using a threshold\n",
        "        threshold = 0.5  # Adjust as needed\n",
        "        preds = (outputs > threshold).cpu().numpy()  # Apply threshold to get multi-label predictions\n",
        "        all_preds.extend(preds)  # Store all predictions\n",
        "        all_labels.extend(labels.cpu().numpy())  # Store all true labels\n",
        "\n",
        "        # Compute loss\n",
        "        loss = criterion(outputs, labels.float())\n",
        "\n",
        "        # Backward pass: Optimize the model\n",
        "        optimizer.zero_grad()  # Clear previous gradients\n",
        "        loss.backward()        # Compute gradients\n",
        "        optimizer.step()       # Update weights\n",
        "\n",
        "        total_loss += loss.item()\n",
        "\n",
        "    # Calculate overall accuracy for the epoch\n",
        "    #epoch_accuracy = compute_accuracy(all_labels, all_preds)\n",
        "    epoch_hamming_loss = hamming_loss(all_labels, all_preds)\n",
        "\n",
        "    # Logging the loss and accuracy for this epoch\n",
        "    avg_loss = total_loss / len(data_loader)\n",
        "    if (epoch + 1) % 1 == 0:  # print every epoch (adjust the '1' to control frequency)\n",
        "        print(f\"Epoch {epoch + 1}/{epochs}, Loss: {avg_loss:.4f}, Hamming Loss: {epoch_hamming_loss:.4f}\")\n",
        "\n",
        "    # Validation Phase (Calculate val_loss)\n",
        "    model.eval()\n",
        "    val_loss = 0  # Initialize validation loss\n",
        "    with torch.no_grad():\n",
        "        for val_batch in data_loader:\n",
        "            input_ids = val_batch['input_ids'].to(device)\n",
        "            attention_mask = val_batch['attention_mask'].to(device)\n",
        "            labels = val_batch['label'].to(device)\n",
        "\n",
        "            outputs = model(input_ids=input_ids, attention_mask=attention_mask)\n",
        "\n",
        "            # Compute loss\n",
        "            loss = criterion(outputs, labels.float())\n",
        "            val_loss += loss.item()\n",
        "\n",
        "    val_loss /= len(data_loader)  # Average validation loss\n",
        "    print(f\"Validation Loss: {val_loss:.4f}\")  # Print validation loss\n",
        "\n",
        "    # Early Stopping Check\n",
        "    if val_loss < best_val_loss:\n",
        "        best_val_loss = val_loss\n",
        "        epochs_without_improvement = 0\n",
        "        # Save the model's state_dict (optional)\n",
        "        torch.save(model.state_dict(), 'best_model.pth')\n",
        "    else:\n",
        "        epochs_without_improvement += 1\n",
        "        if epochs_without_improvement >= patience:\n",
        "            print(\"Early stopping triggered.\")\n",
        "            break\n",
        "\n",
        "\n",
        "end = timer()\n",
        "print_train_time(start, end, device)"
      ],
      "metadata": {
        "colab": {
          "base_uri": "https://localhost:8080/",
          "height": 431,
          "referenced_widgets": [
            "5955cd0a017f4c388b495547bbb1850a",
            "6f8c200163b14a7aa5363501bf135c1f",
            "f70c48c484744b51941ebf68ba815736",
            "8b6e1b80ccce46e78ba76beaaa37a2d6",
            "88baf2ab257f442abf5729faf2a08c9f",
            "9b665328bd5742ba899c3ea6629a53df",
            "6a5ce19f706f4937bb17ad4945c59b7a",
            "4c282aab43cd4b97a055f4b4cf5d160f",
            "2851af5f0d93484e89f3d1357ddce5fb",
            "e015db61d2f6418688342535aad9be2a",
            "073310cb91aa47fa977e5bdcc8fcb125"
          ]
        },
        "id": "OApsIdn3W8RI",
        "outputId": "e72be69a-b42c-467b-9574-4ac175c7f572"
      },
      "execution_count": 54,
      "outputs": [
        {
          "output_type": "display_data",
          "data": {
            "text/plain": [
              "  0%|          | 0/10 [00:00<?, ?it/s]"
            ],
            "application/vnd.jupyter.widget-view+json": {
              "version_major": 2,
              "version_minor": 0,
              "model_id": "5955cd0a017f4c388b495547bbb1850a"
            }
          },
          "metadata": {}
        },
        {
          "output_type": "stream",
          "name": "stdout",
          "text": [
            "Epoch 1/10, Loss: 3.4906, Hamming Loss: 0.4605\n",
            "Validation Loss: 3.4221\n",
            "Epoch 2/10, Loss: 3.4423, Hamming Loss: 0.4342\n",
            "Validation Loss: 3.3945\n",
            "Epoch 3/10, Loss: 3.4063, Hamming Loss: 0.3947\n",
            "Validation Loss: 3.3727\n",
            "Epoch 4/10, Loss: 3.3829, Hamming Loss: 0.4145\n",
            "Validation Loss: 3.3565\n",
            "Epoch 5/10, Loss: 3.3580, Hamming Loss: 0.4474\n",
            "Validation Loss: 3.3402\n",
            "Epoch 6/10, Loss: 3.3433, Hamming Loss: 0.4211\n",
            "Validation Loss: 3.3224\n",
            "Epoch 7/10, Loss: 3.3272, Hamming Loss: 0.4474\n",
            "Validation Loss: 3.3023\n",
            "Epoch 8/10, Loss: 3.3054, Hamming Loss: 0.4211\n",
            "Validation Loss: 3.2808\n",
            "Epoch 9/10, Loss: 3.2889, Hamming Loss: 0.3816\n",
            "Validation Loss: 3.2621\n",
            "Epoch 10/10, Loss: 3.2754, Hamming Loss: 0.3947\n",
            "Validation Loss: 3.2448\n",
            "Train time on cuda: 43.451 seconds\n"
          ]
        },
        {
          "output_type": "execute_result",
          "data": {
            "text/plain": [
              "43.451125934000174"
            ]
          },
          "metadata": {},
          "execution_count": 54
        }
      ]
    },
    {
      "cell_type": "code",
      "source": [
        "def predict_single_text(model, tokenizer, text, device, max_len=128, threshold=0.5):\n",
        "    model.eval()\n",
        "    with torch.no_grad():\n",
        "        # Tokenize input text\n",
        "        encoding = tokenizer(\n",
        "            text,\n",
        "            max_length=max_len,\n",
        "            truncation=True,\n",
        "            padding='max_length',\n",
        "            return_tensors='pt'\n",
        "        )\n",
        "        input_ids = encoding['input_ids'].to(device)\n",
        "        attention_mask = encoding['attention_mask'].to(device)\n",
        "\n",
        "        # Get predictions\n",
        "        output = model(input_ids=input_ids, attention_mask=attention_mask)\n",
        "        probabilities = output.cpu().numpy()[0]\n",
        "        predicted_labels = [i for i, prob in enumerate(probabilities) if prob > threshold]\n",
        "\n",
        "    return predicted_labels, probabilities\n",
        "\n",
        "# Example Usage\n",
        "texts = [\"What about a sandwich?\", \"example text 1 y\"]\n",
        "for text in texts:\n",
        "  thresholds = threshold_list\n",
        "  for threshold in thresholds:\n",
        "    predicted_labels, probabilities = predict_single_text(model, tokenizer, text, device, threshold=threshold)\n",
        "    print(f\"Threshold: {threshold}, Predicted Labels: {[label_names[i] for i in predicted_labels]}, Probabilities: {probabilities}\")\n",
        "    print(getResponse(predicted_labels, threshold))\n"
      ],
      "metadata": {
        "colab": {
          "base_uri": "https://localhost:8080/"
        },
        "id": "ikWlY-0DYay4",
        "outputId": "20f71559-b8a9-463f-86c2-12fc50d768a1"
      },
      "execution_count": 55,
      "outputs": [
        {
          "output_type": "stream",
          "name": "stdout",
          "text": [
            "Threshold: 0.5, Predicted Labels: ['R0', 'B2', 'B4', 'B7', 'B9', 'P3', 'P15', 'Y3', 'Y21', 'Y24', 'Y25', 'Y28', 'Y30', 'G2'], Probabilities: [0.8364673  0.42642775 0.62126434 0.4400802  0.56403446 0.47534752\n",
            " 0.5877079  0.4532998  0.52428854 0.29548576 0.33963686 0.66431326\n",
            " 0.46747777 0.496328   0.4795209  0.5851383  0.4434568  0.39747772\n",
            " 0.5109654  0.31378093 0.44735545 0.36154264 0.4942587  0.3920952\n",
            " 0.59526235 0.45366398 0.3018372  0.5692903  0.5732761  0.43275833\n",
            " 0.37054893 0.51740706 0.45308864 0.6844157  0.48718655 0.6035081\n",
            " 0.4310333  0.28075603]\n",
            "R0 B2 B4 B7 B9 P3 P15 Y3 Y21 Y24 Y25 Y28 Y30 G2 (trashold: 0.5)\n",
            "Threshold: 0.7, Predicted Labels: ['R0'], Probabilities: [0.8364673  0.42642775 0.62126434 0.4400802  0.56403446 0.47534752\n",
            " 0.5877079  0.4532998  0.52428854 0.29548576 0.33963686 0.66431326\n",
            " 0.46747777 0.496328   0.4795209  0.5851383  0.4434568  0.39747772\n",
            " 0.5109654  0.31378093 0.44735545 0.36154264 0.4942587  0.3920952\n",
            " 0.59526235 0.45366398 0.3018372  0.5692903  0.5732761  0.43275833\n",
            " 0.37054893 0.51740706 0.45308864 0.6844157  0.48718655 0.6035081\n",
            " 0.4310333  0.28075603]\n",
            "R0 (trashold: 0.7)\n",
            "Threshold: 0.9, Predicted Labels: [], Probabilities: [0.8364673  0.42642775 0.62126434 0.4400802  0.56403446 0.47534752\n",
            " 0.5877079  0.4532998  0.52428854 0.29548576 0.33963686 0.66431326\n",
            " 0.46747777 0.496328   0.4795209  0.5851383  0.4434568  0.39747772\n",
            " 0.5109654  0.31378093 0.44735545 0.36154264 0.4942587  0.3920952\n",
            " 0.59526235 0.45366398 0.3018372  0.5692903  0.5732761  0.43275833\n",
            " 0.37054893 0.51740706 0.45308864 0.6844157  0.48718655 0.6035081\n",
            " 0.4310333  0.28075603]\n",
            "Im not able to confidently answer... sorry. Can you try to rephrase? (trashold: 0.9)\n",
            "Threshold: 0.5, Predicted Labels: ['R0', 'B2', 'B4', 'B7', 'B9', 'P3', 'P13', 'P15', 'Y21', 'Y24', 'Y25', 'Y28', 'Y30', 'G2'], Probabilities: [0.8461568  0.43248862 0.5918361  0.41810435 0.5622308  0.4841027\n",
            " 0.5287834  0.43340826 0.5289497  0.29701054 0.36135334 0.6239952\n",
            " 0.45146358 0.51468605 0.499941   0.5635589  0.44179946 0.409032\n",
            " 0.47354335 0.32744798 0.423151   0.39757416 0.47805297 0.4207225\n",
            " 0.5815355  0.45055956 0.33385178 0.51046336 0.5631227  0.4261011\n",
            " 0.35691664 0.5229958  0.49835557 0.6588017  0.45317924 0.62149274\n",
            " 0.4699386  0.3101254 ]\n",
            "R0 B2 B4 B7 B9 P3 P13 P15 Y21 Y24 Y25 Y28 Y30 G2 (trashold: 0.5)\n",
            "Threshold: 0.7, Predicted Labels: ['R0'], Probabilities: [0.8461568  0.43248862 0.5918361  0.41810435 0.5622308  0.4841027\n",
            " 0.5287834  0.43340826 0.5289497  0.29701054 0.36135334 0.6239952\n",
            " 0.45146358 0.51468605 0.499941   0.5635589  0.44179946 0.409032\n",
            " 0.47354335 0.32744798 0.423151   0.39757416 0.47805297 0.4207225\n",
            " 0.5815355  0.45055956 0.33385178 0.51046336 0.5631227  0.4261011\n",
            " 0.35691664 0.5229958  0.49835557 0.6588017  0.45317924 0.62149274\n",
            " 0.4699386  0.3101254 ]\n",
            "R0 (trashold: 0.7)\n",
            "Threshold: 0.9, Predicted Labels: [], Probabilities: [0.8461568  0.43248862 0.5918361  0.41810435 0.5622308  0.4841027\n",
            " 0.5287834  0.43340826 0.5289497  0.29701054 0.36135334 0.6239952\n",
            " 0.45146358 0.51468605 0.499941   0.5635589  0.44179946 0.409032\n",
            " 0.47354335 0.32744798 0.423151   0.39757416 0.47805297 0.4207225\n",
            " 0.5815355  0.45055956 0.33385178 0.51046336 0.5631227  0.4261011\n",
            " 0.35691664 0.5229958  0.49835557 0.6588017  0.45317924 0.62149274\n",
            " 0.4699386  0.3101254 ]\n",
            "Im not able to confidently answer... sorry. Can you try to rephrase? (trashold: 0.9)\n"
          ]
        }
      ]
    }
  ]
}